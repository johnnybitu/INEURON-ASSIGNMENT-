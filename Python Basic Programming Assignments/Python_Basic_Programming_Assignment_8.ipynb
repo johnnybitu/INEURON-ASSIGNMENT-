{
 "cells": [
  {
   "cell_type": "markdown",
   "id": "7692b0e7",
   "metadata": {},
   "source": [
    "# Python Basic Programming Assignment 8"
   ]
  },
  {
   "cell_type": "markdown",
   "id": "1a265c5f",
   "metadata": {},
   "source": [
    "### 1. Write a Python Program to Add Two Matrices?"
   ]
  },
  {
   "cell_type": "code",
   "execution_count": 6,
   "id": "a677845f",
   "metadata": {},
   "outputs": [
    {
     "name": "stdout",
     "output_type": "stream",
     "text": [
      "Add two matrics :\n",
      " [[17 15  4]\n",
      " [10 12  9]\n",
      " [11 13 18]]\n"
     ]
    }
   ],
   "source": [
    "import numpy as np\n",
    "X = [[12,7,3],\n",
    "    [4 ,5,6],\n",
    "    [7 ,8,9]]\n",
    "\n",
    "Y = [[5,8,1],\n",
    "    [6,7,3],\n",
    "    [4,5,9]]\n",
    "\n",
    "arr1= np.array(X)+np.array(Y)\n",
    "print(\"Add two matrics :\\n\",arr1)\n"
   ]
  },
  {
   "cell_type": "markdown",
   "id": "fa9b99fd",
   "metadata": {},
   "source": [
    "### 2. Write a Python Program to Multiply Two Matrices?"
   ]
  },
  {
   "cell_type": "code",
   "execution_count": 7,
   "id": "e9c89804",
   "metadata": {},
   "outputs": [
    {
     "name": "stdout",
     "output_type": "stream",
     "text": [
      "Mulitply two matrics :\n",
      " [[60 56  3]\n",
      " [24 35 18]\n",
      " [28 40 81]]\n"
     ]
    }
   ],
   "source": [
    "arr1= np.array(X)*np.array(Y)\n",
    "print(\"Mulitply two matrics :\\n\",arr1)"
   ]
  },
  {
   "cell_type": "markdown",
   "id": "3a2fbf67",
   "metadata": {},
   "source": [
    "### 3. Write a Python Program to Transpose a Matrix?"
   ]
  },
  {
   "cell_type": "code",
   "execution_count": 11,
   "id": "55685fbc",
   "metadata": {},
   "outputs": [
    {
     "name": "stdout",
     "output_type": "stream",
     "text": [
      "original matrics :\n",
      " [[12  7  3]\n",
      " [ 4  5  6]\n",
      " [ 7  8  9]]\n",
      "Transpose matrics :\n",
      " [[12  4  7]\n",
      " [ 7  5  8]\n",
      " [ 3  6  9]]\n"
     ]
    }
   ],
   "source": [
    "print(\"original matrics :\\n\",np.array(X))\n",
    "print(\"Transpose matrics :\\n\",np.array(X).T)"
   ]
  },
  {
   "cell_type": "markdown",
   "id": "7aad2d40",
   "metadata": {},
   "source": [
    "### 4. Write a Python Program to Sort Words in Alphabetic Order?"
   ]
  },
  {
   "cell_type": "code",
   "execution_count": 31,
   "id": "ae3bafc1",
   "metadata": {},
   "outputs": [
    {
     "name": "stdout",
     "output_type": "stream",
     "text": [
      "Sorted Text :\n",
      " a alphabetic in order program python sort to words write\n"
     ]
    }
   ],
   "source": [
    "text=\"Write a Python Program to Sort Words in Alphabetic Order\"\n",
    "print(\"Sorted Text :\\n\",\" \".join(sorted(text.lower().split())))"
   ]
  },
  {
   "cell_type": "markdown",
   "id": "8424146a",
   "metadata": {},
   "source": [
    "### 5.Write a Python Program to Remove Punctuation From a String?"
   ]
  },
  {
   "cell_type": "code",
   "execution_count": 33,
   "id": "eb076699",
   "metadata": {},
   "outputs": [
    {
     "name": "stdout",
     "output_type": "stream",
     "text": [
      "Enter a string with punctuations :\n",
      " Write a Python Program to Remove@@#% Pu!!!!!!nctuation%!&?> From a String?\n",
      "\n",
      "Entered string is :\n",
      "  Write a Python Program to Remove@@#% Pu!!!!!!nctuation%!&?> From a String?\n",
      "\n",
      "After removing punctuations, the string is : \n",
      " Write a Python Program to Remove Punctuation From a String\n"
     ]
    }
   ],
   "source": [
    "punctuations = '''!()-[]{};:'\"\\,<>./?@#$%^&*_~'''\n",
    "my_str = input(\"Enter a string with punctuations :\\n \")\n",
    "print(\"\\nEntered string is :\\n \",my_str)\n",
    "no_punct = \"\"\n",
    "for char in my_str:\n",
    "    if char not in punctuations:\n",
    "        no_punct = no_punct + char\n",
    "print(\"\\nAfter removing punctuations, the string is : \\n\",no_punct)"
   ]
  },
  {
   "cell_type": "code",
   "execution_count": null,
   "id": "e2fc9ae0",
   "metadata": {},
   "outputs": [],
   "source": []
  }
 ],
 "metadata": {
  "kernelspec": {
   "display_name": "Python 3 (ipykernel)",
   "language": "python",
   "name": "python3"
  },
  "language_info": {
   "codemirror_mode": {
    "name": "ipython",
    "version": 3
   },
   "file_extension": ".py",
   "mimetype": "text/x-python",
   "name": "python",
   "nbconvert_exporter": "python",
   "pygments_lexer": "ipython3",
   "version": "3.9.7"
  }
 },
 "nbformat": 4,
 "nbformat_minor": 5
}
