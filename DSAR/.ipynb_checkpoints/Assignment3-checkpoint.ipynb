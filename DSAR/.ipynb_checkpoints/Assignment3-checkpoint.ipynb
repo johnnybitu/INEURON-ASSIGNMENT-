{
 "cells": [
  {
   "cell_type": "markdown",
   "id": "d87d0658-b8af-4b6d-a2fb-36921f5a4fe0",
   "metadata": {},
   "source": [
    "DSAR Assignment 3\n",
    "\n",
    "1. What types of AI-based business intelligence applications are currently used in\n",
    "insurance?\n",
    "2. What are the applications and techniques of artificial intelligence?\n",
    "3. What is the difference between security and surveillance?\n",
    "4. Can AI be used for security?\n",
    "5. How does AI improve security?"
   ]
  },
  {
   "cell_type": "markdown",
   "id": "0cf21f85-41e2-4bf2-b8ab-05402cb793aa",
   "metadata": {},
   "source": [
    "### 1. What types of AI-based business intelligence applications are currently used in insurance?\n",
    "\n",
    "#### Artificial Intelligence in Insurance – Insights Up Front:\n",
    "\n",
    "**Trends that business leaders should know about.**\n",
    "\n",
    "In this article we look at three key ways that AI will drive savings for insurance carriers, brokers and policyholders, plugging into existing transformations within the insurance industry:\n",
    "\n",
    "1. **Behavioral Policy Pricing:**\n",
    "    Ubiquitous Internet of Things (IoT) sensors will provide personalized data to pricing platforms, allowing safer drivers to pay less for auto insurance (known as usage-based insurance) and people with healthier lifestyles to pay less for health insurance\n",
    "\n",
    "2. **Customer Experience & Coverage Personalization:** \n",
    "\n",
    "    AI will enable a seamless automated buying experience, using chatbots that can pull on customers’ geographic and social data for personalized interactions. Carriers will also allow users to customize coverage for specific items and events (known as on-demand insurance)\n",
    "\n",
    "3. **Faster, Customized Claims Settlement:**\n",
    "    \n",
    "    Online interfaces and virtual claims adjusters will make it more efficient to settle and pay claims following an accident, while simultaneously decreasing the likelihood of fraud. Customers will also be able to select whose premiums will be used to pay their claims (known as peer-to-peer (P2P) insurance).\n"
   ]
  },
  {
   "cell_type": "markdown",
   "id": "6555f405-ba60-4055-8bec-1c1922a11ff5",
   "metadata": {},
   "source": [
    "### 2.What are the applications and techniques of artificial intelligence?\n",
    "\n",
    "**Applications of Artificial Intelligence**\n",
    "\n",
    "1. AI is used in the finance industry, where personal data is collected, which can be later used to provide financial advice.\n",
    "2. AI is used in the field of education, where the grading system can be automated, and the performance of the students can be assessed based on which the learning process can be improved.\n",
    "3. In the field of Healthcare, AI is used to perform a better diagnosis where the technologies used to understand the natural language and respond to the questions asked. Also, computer programs like chatbots are used to assist customers in scheduling appointments and ease of billing process, etc.\n",
    "4. AI is used in Business to automate the repetitive tasks performed by humans with the help of Robotic Process Automation. To increase customer satisfaction, machine learning algorithms are integrated with analytics to gather information which helps in understanding customer needs.\n",
    "5. AI is used in Smart Home devices, security and surveillance, navigation and travel, music and media streaming and video games, etc.\n",
    "\n",
    "**Top Techniquies of AI**\n",
    "\n",
    "1. Machine Learning\n",
    "2. NLP\n",
    "3. Automation & Robotics\n",
    "4. Machine Vision"
   ]
  },
  {
   "cell_type": "markdown",
   "id": "c9df1050-df39-4ed0-a87c-b756d3858739",
   "metadata": {},
   "source": [
    "### 3. What is the difference between security and surveillance?\n",
    "\n",
    "`Security systems`, with sensors and a keypad, perform functions that are quite different than those of a surveillance system. security and surveillanceAnd each of these systems, taken alone, can be adapted to a variety of uses. Before planning one or the other, or both, for your home, take a moment to consider what you want to achieve.\n",
    "\n",
    "\n",
    "A `surveillance syste` is about camera images. It may or may not be combined with a security system and it may or may not include image recording and playback."
   ]
  },
  {
   "cell_type": "markdown",
   "id": "16425137-5372-46ed-b7d0-7072075e78a5",
   "metadata": {},
   "source": [
    "### 4.Can AI be used for security?\n",
    " `YES`"
   ]
  },
  {
   "cell_type": "markdown",
   "id": "cd3e7a37-3f51-4192-b879-fcb53cfe16b4",
   "metadata": {},
   "source": [
    "### 5.How does AI improve security?\n",
    "\n",
    "    It uses artificial intelligence to improve detection and response over time, eliminating false positives so you can focus on real threats. ... Learn what criteria you should look for in a security product with machine learning and AI"
   ]
  },
  {
   "cell_type": "code",
   "execution_count": null,
   "id": "7e49d7a4-092e-4cdb-a122-eba8756f3555",
   "metadata": {},
   "outputs": [],
   "source": []
  }
 ],
 "metadata": {
  "kernelspec": {
   "display_name": "Python 3 (ipykernel)",
   "language": "python",
   "name": "python3"
  },
  "language_info": {
   "codemirror_mode": {
    "name": "ipython",
    "version": 3
   },
   "file_extension": ".py",
   "mimetype": "text/x-python",
   "name": "python",
   "nbconvert_exporter": "python",
   "pygments_lexer": "ipython3",
   "version": "3.9.12"
  },
  "widgets": {
   "application/vnd.jupyter.widget-state+json": {
    "state": {},
    "version_major": 2,
    "version_minor": 0
   }
  }
 },
 "nbformat": 4,
 "nbformat_minor": 5
}
