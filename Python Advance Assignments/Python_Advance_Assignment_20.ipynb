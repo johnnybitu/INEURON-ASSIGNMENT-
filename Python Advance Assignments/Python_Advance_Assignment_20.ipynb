{
 "cells": [
  {
   "cell_type": "markdown",
   "metadata": {},
   "source": [
    "# Assignment 20 'Python Advance'"
   ]
  },
  {
   "cell_type": "markdown",
   "metadata": {
    "id": "vgv5erOqyOIc"
   },
   "source": [
    "**1. Compare and contrast the float and Decimal classes' benefits and drawbacks ?**  \n",
    "ANS - Both the **float** and **decimal** types store numerical values in Python.\n",
    "\n",
    "Use **floats** when convenience and speed matter. A float gives you an approximation of the number you declare.\n",
    "\n",
    "Use **decimals** when precision matters. **Decimals** can suffer from their own precision issues, but generally, **decimals** are more precise than **floats**. The performance difference between **float** and **decimal**, with Python 3, is not outlandish, and in my experience, the precision benefits of a decimal outweigh the performance benefits of a **float**."
   ]
  },
  {
   "cell_type": "markdown",
   "metadata": {
    "id": "ThY7FPUhyOK6"
   },
   "source": [
    "**2. Decimal('1.200') and Decimal('1.2') are two objects to consider. In what sense are these the same object? Are these just two ways of representing the exact same value, or do they correspond to different internal states ?**  \n",
    "ANS - Both values are same but internal representation at storage Is different. Precsion differs, **Decimal('1.200'**) gives internally **1.200** and **Decimal('1.2')** gives **1.2**"
   ]
  },
  {
   "cell_type": "markdown",
   "metadata": {
    "id": "kTudf7WUyONp"
   },
   "source": [
    "**3. What happens if the equality of Decimal('1.200') and Decimal('1.2') is checked ?**  \n",
    "ANS -  Both values are checked to be equal , they only differ in precision."
   ]
  },
  {
   "cell_type": "markdown",
   "metadata": {
    "id": "fP2_0WhNyOQP"
   },
   "source": [
    "**4. Why is it preferable to start a Decimal object with a string rather than a floating-point value ?**  \n",
    "ANS - Floating-point value is converted to Decimal format. Decimal can store float value with absolute precision. But when float value is given as Decimal object,it first has to be converted from floating point value which might already have rounding error.\n",
    "\n",
    "Hence it is preferable to start a Decimal object with a string."
   ]
  },
  {
   "cell_type": "markdown",
   "metadata": {
    "id": "Fxc5moLmyOS4"
   },
   "source": [
    "**5. In an arithmetic phrase, how simple is it to combine Decimal objects with integers ?**  \n",
    "ANS - We can do it with use of **Decimal()**."
   ]
  },
  {
   "cell_type": "markdown",
   "metadata": {
    "id": "kDkSWAxKyOVa"
   },
   "source": [
    "**6. Can Decimal objects and floating-point values be combined easily ?**  \n",
    "ANS - Arithmetic operfations like Adding,subtracting or multiplying a Decimal object by a floating-point value is generates an error.\n",
    "\n",
    "To do these operations, the floating point has to be converted to a Decimal."
   ]
  },
  {
   "cell_type": "markdown",
   "metadata": {
    "id": "AUY3HJrsyOYD"
   },
   "source": [
    "**7. Using the Fraction class but not the Decimal class, give an example of a quantity that can be expressed with absolute precision ?**  \n",
    "ANS - Value of 0.5 will be represented as ½."
   ]
  },
  {
   "cell_type": "markdown",
   "metadata": {
    "id": "foVnyKhvyOas"
   },
   "source": [
    "**8.Consider the following two fraction objects: Fraction(1, 2) and Fraction(1, 2). (5, 10). Is the internal state of these two objects the same? Why do you think that is ?**  \n",
    "ANS - Both will be reduced to **1/2**"
   ]
  },
  {
   "cell_type": "markdown",
   "metadata": {
    "id": "fP4c2Kk9yOd4"
   },
   "source": [
    "**9. How do the Fraction class and the integer type (int) relate to each other? Containment or inheritance ?**  \n",
    "ANS - Fraction class and integer type(int) are related in form of a container.It contains two ints, one the numerator and the other the denominator"
   ]
  }
 ],
 "metadata": {
  "colab": {
   "collapsed_sections": [],
   "name": "ADVANCED ASSIGNMENT NO.20.ipynb",
   "provenance": []
  },
  "kernelspec": {
   "display_name": "Python 3 (ipykernel)",
   "language": "python",
   "name": "python3"
  },
  "language_info": {
   "codemirror_mode": {
    "name": "ipython",
    "version": 3
   },
   "file_extension": ".py",
   "mimetype": "text/x-python",
   "name": "python",
   "nbconvert_exporter": "python",
   "pygments_lexer": "ipython3",
   "version": "3.9.12"
  },
  "widgets": {
   "application/vnd.jupyter.widget-state+json": {
    "state": {},
    "version_major": 2,
    "version_minor": 0
   }
  }
 },
 "nbformat": 4,
 "nbformat_minor": 4
}
