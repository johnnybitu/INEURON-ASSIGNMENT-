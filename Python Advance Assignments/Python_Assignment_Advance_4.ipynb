{
 "cells": [
  {
   "cell_type": "markdown",
   "id": "cb89e1a2-8271-4b7d-a0ae-a64d6d6c5c3c",
   "metadata": {},
   "source": [
    "# Assignment 4 'Python Advance'"
   ]
  },
  {
   "cell_type": "markdown",
   "id": "8e6a826c-daa6-41fe-9427-9e8c8c38fef7",
   "metadata": {},
   "source": [
    "### Q1. Which two operator overloading methods can you use in your classes to support iteration?\n",
    "\n",
    "**Answer:** The __iter__ & the __next__. The __iter__ returns the iterator object and is implicitly called at the start of loops. The __next__ method returns the next value and is implicitly called at each loop increment.\n",
    "\n",
    "\n",
    "### Q2. In what contexts do the two operator overloading methods manage printing?\n",
    "\n",
    "**Answer:** Operator Overloading means giving extended meaning beyond their predefined operational meaning. For example operator + is used to add two integers as well as join two strings and merge two lists. It is achievable because '+' operator is overloaded by int class and str class.\n",
    "\n",
    "### Q3. In a class, how do you intercept slice operations?\n",
    "\n",
    "**Answer:** Python slice() function returns a slice object. A sequence of objects of any type(string, bytes, tuple, list or range) or the object which implements __getitem__() and __len__() method then this object can be sliced using slice() method.\n",
    "\n",
    "### Q4. In a class, how do you capture in-place addition?\n",
    "\n",
    "**Answer:** Python provides the operator x += y to add two objects in-place by calculating the sum x + y and assigning the result to the first operands variable name x. You can set up the in-place addition behaviour for your own class by overriding the magic “dunder” method __iadd__(self, other) in your class definition.\n",
    "\n",
    "\n",
    "### Q5. When is it appropriate to use operator overloading?\n",
    "\n",
    "**Answer:** Consider that we have two objects which are a physical representation of a class (user-defined data type) and we have to add two objects with binary ‘+’ operator it throws an error, because compiler don’t know how to add two objects. So we define a method for an operator and that process is called operator overloading. We can overload all existing operators but we can’t create a new operator. \n",
    "\tTo perform operator overloading, Python provides some special function or magic function that is automatically invoked when it is associated with that particular operator. For example, when we use + operator, the magic method __add__ is automatically invoked in which the operation for + operator is defined.\n"
   ]
  },
  {
   "cell_type": "code",
   "execution_count": null,
   "id": "4e27bcaa-2206-42ef-9243-a8a9e9beb6fc",
   "metadata": {},
   "outputs": [],
   "source": []
  }
 ],
 "metadata": {
  "kernelspec": {
   "display_name": "Python 3 (ipykernel)",
   "language": "python",
   "name": "python3"
  },
  "language_info": {
   "codemirror_mode": {
    "name": "ipython",
    "version": 3
   },
   "file_extension": ".py",
   "mimetype": "text/x-python",
   "name": "python",
   "nbconvert_exporter": "python",
   "pygments_lexer": "ipython3",
   "version": "3.9.12"
  },
  "widgets": {
   "application/vnd.jupyter.widget-state+json": {
    "state": {},
    "version_major": 2,
    "version_minor": 0
   }
  }
 },
 "nbformat": 4,
 "nbformat_minor": 5
}
