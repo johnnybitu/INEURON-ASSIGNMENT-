{
 "cells": [
  {
   "cell_type": "markdown",
   "id": "4e20685d-d0a0-4244-b894-a19b3108fd6f",
   "metadata": {},
   "source": [
    "## Assignment 2"
   ]
  },
  {
   "cell_type": "markdown",
   "id": "6e68e289-8bd8-4c90-a758-232a0d109240",
   "metadata": {},
   "source": [
    "### 1.What are the 5 major common challenges of the telecom industry, and how to overcome them using AI?\n",
    "\n",
    "1. The Need for Quick and Personalized Customer Service\n",
    "2. Complex Operational Processes\n",
    "3. Emerging Technologies\n",
    "4. Mobile App Technology\n",
    "5. Network Security"
   ]
  },
  {
   "cell_type": "markdown",
   "id": "68fd1855-82fe-447d-b546-2abbc950d627",
   "metadata": {},
   "source": [
    "### 2.What problems is the banking industry facing now?\n",
    "\n",
    "1. VIRTUAL PAYMENTS\n",
    "2. CYBER-SECURITY\n",
    "3. MAXIMIZING OPERATIONAL EFFICIENCY\n",
    "4. VIRTUAL CUSTOMER SERVICE\n",
    "5. ADOPTION OF NEW TECHNOLOGY\n",
    "6. VIRTUAL TRANSACTION AUTHENTICATION AND SECURITY\n",
    "7. INVESTMENT BANKING\n",
    "8. CUSTOMER EXPECTATIONS\n",
    "9. COMPETITION BETWEEN BANKS AND FINTECH COPMANIES\n",
    "10. SOCIAL MEDIA ENGAGEMENT"
   ]
  },
  {
   "cell_type": "markdown",
   "id": "d9e4c857-0224-4b1f-a0a7-e9723aa0d970",
   "metadata": {},
   "source": [
    "### 3. How is artificial intelligence used in banking?\n",
    "\n",
    "    1. Machine learning and predictive analytics are two great methods and technologies for helping banks and their customers remain protected in the digital age. These technologies can detect network intrusions, secure user authorization, analyze a company’s cybersecurity, and predict hacking. Biometric technologies are believed to address security and privacy issues with greater efficiency. The development of biometrics can help to prevent fraud and money laundering. Moreover, users find instant authentication based on the iris and fingertips scanning more beneficial than the need for memorizing codes, pins, and passwords. Blockchain technology is also a great troubleshooter when it comes to cyber-security.\n",
    "    \n",
    "    2. Blockchain is discussed as the solution to issues around official authentication and security of virtual payments. Extreme transparency and comprehensive codes are proving to be the safest form of transaction protection against fraud and hacking, increasing the reliability of banking transactions several times over. \n",
    "\n",
    "    Storing data is another regulatory concern banks are faced with. Cloud computing are a great way to assure maximum saftey and reliability.\n",
    "    \n",
    "    3.Chatbots in Banking have already proved they can help create a more positive experience. So what is a chatbot in banking, and how can it solve issues? Chatbot technologies offer an automated, easy-to-use, launch-and-maintain system that promises to reduce customer care call volumes and increase satisfaction while potentially helping change customers’ opinions of banks. Integrating chatbots into customer service systems increases clients’ loyalty, reduces processing time, and cuts administrative costs. Bots help to find transactions, send and receive money, lock and unlock debit cards and much more."
   ]
  },
  {
   "cell_type": "markdown",
   "id": "47630014-5089-4be8-85d1-61ecde3f1dfd",
   "metadata": {},
   "source": [
    "### 4. What are the examples of artificial intelligence in banking?\n",
    "\n",
    " * Internal Document Search – Contract Intelligence (COiN)\n",
    " * Predictive Analytics – Emerging Opportunities Engine\n",
    " * Chatbot"
   ]
  },
  {
   "cell_type": "markdown",
   "id": "acb1afec-0be5-4a5e-9615-1684fc12b437",
   "metadata": {},
   "source": [
    "### 5. How do insurance companies use AI to mitigate risk?\n",
    "\n",
    "     Insurance companies are constantly evaluating their rates to determine how much to charge customers based on the probability of paying a claim. How do insurance companies use AI to mitigate risk? How can AI be used to benefit or hurt consumers based on the type of data acquired? Research at least one insurance company to see if there are any stories or case studies which support your analysis."
   ]
  }
 ],
 "metadata": {
  "kernelspec": {
   "display_name": "Python 3 (ipykernel)",
   "language": "python",
   "name": "python3"
  },
  "language_info": {
   "codemirror_mode": {
    "name": "ipython",
    "version": 3
   },
   "file_extension": ".py",
   "mimetype": "text/x-python",
   "name": "python",
   "nbconvert_exporter": "python",
   "pygments_lexer": "ipython3",
   "version": "3.9.12"
  },
  "widgets": {
   "application/vnd.jupyter.widget-state+json": {
    "state": {},
    "version_major": 2,
    "version_minor": 0
   }
  }
 },
 "nbformat": 4,
 "nbformat_minor": 5
}
