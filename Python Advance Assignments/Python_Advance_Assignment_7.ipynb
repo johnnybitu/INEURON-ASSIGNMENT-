{
 "cells": [
  {
   "cell_type": "markdown",
   "metadata": {},
   "source": [
    "# Assignment 7 'Python Advance'"
   ]
  },
  {
   "cell_type": "markdown",
   "metadata": {
    "id": "_vofVz7jJJQ9"
   },
   "source": [
    "**1. What is the purpose of the try statement?**  \n",
    "ANS - The main purpose of the try statement is to run our main script in safe mode. Menas if the main script contains some error of some mistake that we or the programmer or the user of that script is responsible for then it will through error as our desired way that we define by following the try clause except\n",
    "\n",
    "Although the main concept is try is basically telling the console to try to run the code if it executes successfully then exit and if not the process as we define."
   ]
  },
  {
   "cell_type": "markdown",
   "metadata": {
    "id": "Ccv1wH63JahP"
   },
   "source": [
    "**2. What are the two most popular try statement variations?**  \n",
    "ANS - \n",
    "- try with except block: When try fails except will execute. When try passess, except do not execute\n",
    "\n",
    "- try with except and else: When try will execute then only else block will exceute. If try fails then only except block will exceute not else block"
   ]
  },
  {
   "cell_type": "markdown",
   "metadata": {
    "id": "ru-GxZJGKBYM"
   },
   "source": [
    "**3. What is the purpose of raise statement?**  \n",
    "ANS - With the raise statement we can trigger our own defined error at any point of the time and we can raise an error in any were in our script as long as it is reasonable.\n",
    "\n",
    "So if we want to trigger an error at a specific moment of time we can use raise statement for that purpose."
   ]
  },
  {
   "cell_type": "markdown",
   "metadata": {
    "id": "t3d83aA8KQ8e"
   },
   "source": [
    "**4. What does the assert statement do, and what other statement is it like?**  \n",
    "ANS - There are few assertions that programmer always want to be true to avoid code failure. This type of requirement is fulfilled by assert statement. This statement takes a boolean condition output of which is True, Further Program Executes. if output of assert statement is False, it raises an Assertion Error."
   ]
  },
  {
   "cell_type": "code",
   "execution_count": 6,
   "metadata": {
    "colab": {
     "base_uri": "https://localhost:8080/",
     "height": 165
    },
    "id": "m0LkcXwSKe2x",
    "outputId": "f7886b9e-8459-49e8-9e74-3775ac26ef58"
   },
   "outputs": [
    {
     "ename": "AssertionError",
     "evalue": "ignored",
     "output_type": "error",
     "traceback": [
      "\u001b[0;31m---------------------------------------------------------------------------\u001b[0m",
      "\u001b[0;31mAssertionError\u001b[0m                            Traceback (most recent call last)",
      "\u001b[0;32m<ipython-input-6-b7228a17c25c>\u001b[0m in \u001b[0;36m<module>\u001b[0;34m()\u001b[0m\n\u001b[0;32m----> 1\u001b[0;31m \u001b[0;32massert\u001b[0m\u001b[0;34m(\u001b[0m\u001b[0;36m2\u001b[0m \u001b[0;34m==\u001b[0m \u001b[0;36m4\u001b[0m\u001b[0;34m)\u001b[0m\u001b[0;34m,\u001b[0m \u001b[0;34mf'this is not a valid statement'\u001b[0m\u001b[0;34m\u001b[0m\u001b[0;34m\u001b[0m\u001b[0m\n\u001b[0m",
      "\u001b[0;31mAssertionError\u001b[0m: this is not a valid statement"
     ]
    }
   ],
   "source": [
    "assert(2 == 4), f'this is not a valid statement'"
   ]
  },
  {
   "cell_type": "markdown",
   "metadata": {
    "id": "HNZ62pUyKkI5"
   },
   "source": [
    "**5. What is the purpose of the with/as argument, and what other statement is it like?**  \n",
    "ANS - with / as arguments are used in python to make the code more readable and cleaner.\n",
    "\n",
    "The with statement is handle the exception the with statement ensure the acquisition and release of resources by itself automatically. The with statement avoiding bugs and leaks and ensure that resources are properly released at the time of code executions.\n",
    "\n",
    "The as is just to use an instance name or variable name for the resource we are executing."
   ]
  }
 ],
 "metadata": {
  "colab": {
   "collapsed_sections": [],
   "name": "ADVANCED_ASSIGNMENT_NO.7.ipynb",
   "provenance": []
  },
  "kernelspec": {
   "display_name": "Python 3 (ipykernel)",
   "language": "python",
   "name": "python3"
  },
  "language_info": {
   "codemirror_mode": {
    "name": "ipython",
    "version": 3
   },
   "file_extension": ".py",
   "mimetype": "text/x-python",
   "name": "python",
   "nbconvert_exporter": "python",
   "pygments_lexer": "ipython3",
   "version": "3.9.12"
  },
  "widgets": {
   "application/vnd.jupyter.widget-state+json": {
    "state": {},
    "version_major": 2,
    "version_minor": 0
   }
  }
 },
 "nbformat": 4,
 "nbformat_minor": 4
}
