{
 "cells": [
  {
   "cell_type": "markdown",
   "id": "9a9768b3",
   "metadata": {},
   "source": [
    "# Assignment 1 'Python Advance'"
   ]
  },
  {
   "cell_type": "markdown",
   "id": "a4cae12c",
   "metadata": {},
   "source": [
    "\n",
    "### Q1. What is the purpose of Python's OOP?\n",
    "\n",
    "**Answer 1** In Python, object-oriented programming (OOPS) is a programming paradigm that uses object and classes in programming. It aims to implement real-world entities like inheritance, polymorphisms, encapsulation, etc. in the programming The main concept of OOPs is to bind the data and the functions that work on that together as a single unit so that no other part of the code can access this data.\n",
    "\n",
    "\n",
    "### Q2. Where does an inheritance search look for an attribute?\n",
    "\n",
    "**Answer: 2** The inheritance search is simply a search of the tree from bottom to top looking for the lowest occurrence of an attribute name. Code implies the shape of such trees.\n",
    "\n",
    "\n",
    "### Q3. How do you distinguish between a class object and an instance object?\n",
    "\n",
    "**Answer 3:**  A class is a template for creating objects in program whereas, the object is an instance of a class. A class is a local entity while object is a physical entity. A class doesn’t allocate memory spaces when it is created while object allocates memory spaces when they are created.\n",
    "\n",
    "\n",
    "### Q4. What makes the first argument in a class’s method function special?\n",
    "\n",
    "**Answer 4:**  The first argument of every class method, including init, is always a reference to the current instance of the class. By convention, this argument is always named self. In the init method, self refers to the newly created object; in other class methods, it refers to the instance whose method was called.\n",
    "\n",
    "\n",
    "### Q5. What is the purpose of the __init__ method?\n",
    "\n",
    "**Answer 5:**  The __init__ function is called every time an object is created from a class. The __init__ method lets the class initialize the object's attributes and serves no other purpose. It is only used within classes.\n",
    "\n",
    "\n",
    "### Q6. What is the process for creating a class instance?\n",
    "\n",
    "**Answer 6:**  When you create an object, you are creating an instance of a class, therefore \"instantiating\" a class. The new operator requires a single, postfix argument: a call to a constructor. The name of the constructor provides the name of the class to instantiate. The constructor initializes the new object.\n",
    "\n",
    "\n",
    "### Q7. What is the process for creating a class?\n",
    "\n",
    "**Answer 7:**  To create a class, use the keyword class: \n",
    "Example: Create a class named MyClass, with a property named x:\n",
    "    \n",
    " > Class MyClass:<br>\n",
    "\t      x = 5<br>\n",
    "Now we can use the class named MyClass to create objects:\n",
    "\t  Create an object named p1, and print the value of x:\n",
    "      \n",
    " >p1= MyClass()<br>\n",
    "  print(p1.x)<br>\t\n",
    "\n",
    "The examples above are classes and objects in their simplest form, and are not really useful in real life applications. To understand the meaning of classes we have to understand the built-in __init__() function. All classes have a function called __init__(), which is always executed when the class is being initiated. Use the __init__() function to assign values to object properties, or other operations that are necessary to do when the object is being created:\n",
    "  \n",
    "  >Create a class named Person, use the __init__() function to assign values for name and age:\n",
    "  class Person:\n",
    "\n",
    "  >def __init__(self, name, age):<br>\n",
    "    self.name = name<br>\n",
    "    self.age = age\n",
    "\n",
    "   >p1 = Person(\"John\", 36)\n",
    "\n",
    "  >print(p1.name)\n",
    "  >print(p1.age)\n",
    "  \n",
    "\n",
    "### Q8. How would you define the superclasses of a class?\n",
    "\n",
    "**Answer 8:**  A superclass is the class from which many subclasses can be created. The subclasses inherit the characteristics of a superclass. The superclass is also known as the parent class or base class. In the above example, Vehicle is the Superclass and its subclasses are Car, Truck and Motorcycle.\n"
   ]
  }
 ],
 "metadata": {
  "kernelspec": {
   "display_name": "Python 3 (ipykernel)",
   "language": "python",
   "name": "python3"
  },
  "language_info": {
   "codemirror_mode": {
    "name": "ipython",
    "version": 3
   },
   "file_extension": ".py",
   "mimetype": "text/x-python",
   "name": "python",
   "nbconvert_exporter": "python",
   "pygments_lexer": "ipython3",
   "version": "3.9.12"
  }
 },
 "nbformat": 4,
 "nbformat_minor": 5
}
