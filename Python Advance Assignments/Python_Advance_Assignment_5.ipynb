{
 "cells": [
  {
   "cell_type": "markdown",
   "id": "025116ba-4e9f-481c-b5e4-553a909fbeb4",
   "metadata": {},
   "source": [
    "# Assignment 5 'Python Advance'"
   ]
  },
  {
   "cell_type": "markdown",
   "id": "6e9b2cd0-67ed-4575-973f-0fede78c6224",
   "metadata": {},
   "source": [
    "#### Q1. What is the meaning of multiple inheritance?\n",
    "\n",
    "**Answer:** Multiple inheritance a feature of some object-oriented programming languages in which a class or an object inherits characteristics and properties from more than one parent class or object. This is contrary to the single inheritance property, which allows an object or class to inherit from one specific object or class.\n"
   ]
  },
  {
   "cell_type": "markdown",
   "id": "eecbbd8f-1e54-4cb7-b4f3-a3c95927ab66",
   "metadata": {},
   "source": [
    "#### Q2. What is the concept of delegation?\n",
    "\n",
    "**Answer:** Delegation is an object-oriented technique (also called a design pattern). Let's say you have an object x and want to change the behaviour of just one of its methods. You can create a new class that provides a new implementation of the method you're interested in changing and delegates all other methods to the corresponding method of x.\n",
    "\n",
    "#### Q3. What is the concept of composition?\n",
    "\n",
    "**Answer:** Composition is a concept that models a has a relationship. It enables creating complex types by combining objects of other types. This means that a class Composite can contain an object of another class Component. This relationship means that a Composite has a Component.\n",
    "\n",
    "\n",
    "#### Q4. What are bound methods and how do we use them?\n",
    "\n",
    "**Answer:** A bound method is the one which is dependent on the instance of the class as the first argument. It passes the instance as the first argument which is used to access the variables and functions. In Python 3 and newer versions of python, all functions in the class are by default bound methods.\n",
    "\n",
    "\n",
    "#### Q5. What is the purpose of pseudoprivate attributes?\n",
    "\n",
    "**Answer:** Pseudo-private names are an advanced feature, entirely optional, and probably won't be very useful until you start writing large class hierarchies in multi-programmer projects. But because you may see this feature in other people's code, you need to be somewhat aware of it even if you don't use it in your own.\n"
   ]
  },
  {
   "cell_type": "code",
   "execution_count": null,
   "id": "ff2ec831-6e44-4932-9139-44bdd87f4818",
   "metadata": {},
   "outputs": [],
   "source": []
  }
 ],
 "metadata": {
  "kernelspec": {
   "display_name": "Python 3 (ipykernel)",
   "language": "python",
   "name": "python3"
  },
  "language_info": {
   "codemirror_mode": {
    "name": "ipython",
    "version": 3
   },
   "file_extension": ".py",
   "mimetype": "text/x-python",
   "name": "python",
   "nbconvert_exporter": "python",
   "pygments_lexer": "ipython3",
   "version": "3.9.12"
  },
  "widgets": {
   "application/vnd.jupyter.widget-state+json": {
    "state": {},
    "version_major": 2,
    "version_minor": 0
   }
  }
 },
 "nbformat": 4,
 "nbformat_minor": 5
}
