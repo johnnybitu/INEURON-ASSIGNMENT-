{
 "cells": [
  {
   "cell_type": "markdown",
   "id": "b2aa57f2",
   "metadata": {},
   "source": [
    "# Assignment 13 Solutions"
   ]
  },
  {
   "cell_type": "markdown",
   "id": "111120c6",
   "metadata": {},
   "source": [
    "##### 1. Provide an example of the concepts of Prior, Posterior, and Likelihood ?"
   ]
  },
  {
   "cell_type": "markdown",
   "id": "c7fc2870-7ea1-48f8-bb21-17c9bc5c9170",
   "metadata": {},
   "source": [
    "**Ans:** Bayes theorem states the following:\n",
    "\n",
    "Posterior = Prior * Likelihood\n",
    "\n",
    "This can also be stated as `P (A | B) = (P (B | A) * P(A)) / P(B)` , where P(A|B) is the probability of A given B, also called posterior.\n",
    "\n",
    "Prior: Probability distribution representing knowledge or uncertainty of a data object prior or before observing it\n",
    "\n",
    "Posterior: Conditional probability distribution representing what parameters are likely after observing the data object\n",
    "\n",
    "Likelihood: The probability of falling under a specific category or class.\n",
    "\n",
    "This is represented as follows:\n",
    "\n",
    "<img height=\"128\" width=\"698\" class=\" image-border\" src=\"https://www.oreilly.com/library/view/machine-learning-with/9781785889936/assets/image_02_022.png\">"
   ]
  },
  {
   "cell_type": "markdown",
   "id": "4ae857d4",
   "metadata": {},
   "source": [
    "##### 2. What role does Bayes' theorem play in the concept learning principle ?"
   ]
  },
  {
   "cell_type": "markdown",
   "id": "30c5cbd0-5192-40d9-bef5-907275d947e3",
   "metadata": {},
   "source": [
    "**Ans** : Bayes theorem helps to determine the probability of an event with random knowledge. It is used to calculate the probability of occurring one event while other one already occurred. It is a best method to relate the condition probability and marginal probability."
   ]
  },
  {
   "cell_type": "markdown",
   "id": "c981ac1e",
   "metadata": {},
   "source": [
    "##### 3. Offer an example of how the Nave Bayes classifier is used in real life ?"
   ]
  },
  {
   "cell_type": "markdown",
   "id": "2d24c4c0-a3de-4caf-bb64-52688736d2d1",
   "metadata": {},
   "source": [
    "** Ans** #### Applications of Naive Bayes Algorithm\n",
    "\n",
    "As you must’ve noticed, this algorithm offers plenty of advantages to its users. That’s why it has a lot of applications in various sectors too. Here are some applications of Naive Bayes algorithm:\n",
    "\n",
    "* As this algorithm is fast and efficient, you can use it to make real-time predictions.\n",
    "* This algorithm is popular for multi-class predictions. You can find the probability of multiple target classes easily by using this algorithm.\n",
    "* Email services (like Gmail) use this algorithm to figure out whether an email is a spam or not. This algorithm is excellent for spam filtering.\n",
    "* Its assumption of feature independence, and its effectiveness in solving multi-class problems, makes it perfect for performing Sentiment Analysis. Sentiment Analysis refers to the identification of positive or negative sentiments of a target group (customers, audience, etc.)\n",
    "* Collaborative Filtering and the Naive Bayes algorithm work together to build recommendation systems. These systems use data mining and machine learning to predict if the user would like a particular resource or not. "
   ]
  },
  {
   "cell_type": "markdown",
   "id": "07ab2a64",
   "metadata": {},
   "source": [
    "### 4. Can the Nave Bayes classifier be used on continuous numeric data? If so, how can you go about doing it ?"
   ]
  },
  {
   "cell_type": "markdown",
   "id": "ca431751-e1fb-4086-9e9a-7142b92c13c5",
   "metadata": {},
   "source": [
    ">There are two ways to estimate the class-conditional probabilities for continuous attributes in naive Bayes classifiers: We can discretize each continuous attribute and then replace the continuous attribute value with its corresponding discrete interval."
   ]
  },
  {
   "cell_type": "markdown",
   "id": "0be2162e",
   "metadata": {},
   "source": [
    "### 5. What are Bayesian Belief Networks, and how do they work? What are their applications? Are they capable of resolving a wide range of issues ?"
   ]
  },
  {
   "cell_type": "markdown",
   "id": "1097967c-d655-48ba-9d8c-b3b3078ed554",
   "metadata": {},
   "source": [
    "* Bayesian networks are a type of probabilistic graphical model comprised of nodes and directed edges.\n",
    "* Bayesian network models capture both conditionally dependent and conditionally independent relationships between random variables.\n",
    "* Models can be prepared by experts or learned from data, then used for inference to estimate the probabilities for causal or subsequent events."
   ]
  },
  {
   "cell_type": "markdown",
   "id": "a96163dd",
   "metadata": {},
   "source": [
    "##### 6. Passengers are checked in an airport screening system to see if there is an intruder. Let I be the random variable that indicates whether someone is an intruder I = 1) or not I = 0), and A be the variable that indicates alarm I = 0). If an intruder is detected with probability P(A = 1|I = 1) = 0.98 and a non-intruder is detected with probability P(A = 1|I = 0) = 0.001, an alarm will be triggered, implying the error factor. The likelihood of an intruder in the passenger population is P(I = 1) = 0.00001. What are the chances that an alarm would be triggered when an individual is actually an intruder ?"
   ]
  },
  {
   "cell_type": "markdown",
   "id": "6ffcb646-6ff5-4691-a27a-2dbd6b5f7a67",
   "metadata": {},
   "source": [
    "    This can be solved directly with the Bayesian theorem.\n",
    "    P(T = 1|A = 1) = P(A = 1|T = 1)P(T = 1)\n",
    "    P(A = 1) \n",
    "    =\n",
    "    P(A = 1|T = 1)P(T = 1)\n",
    "    P(A = 1|T = 1)P(T = 1) + P(A = 1|T = 0)P(T = 0) \n",
    "    =\n",
    "    0.98 × 0.00001\n",
    "    0.98 × 0.00001 + 0.001 × (1 − 0.00001) = 0.0097 \n",
    "    ≈\n",
    "    0.00001\n",
    "    0.001\n",
    "    = 0.01"
   ]
  },
  {
   "cell_type": "markdown",
   "id": "6b3b649e",
   "metadata": {},
   "source": [
    "##### 7. An antibiotic resistance test (random variable T) has 1% false positives (i.e., 1% of those who are not immune to an antibiotic display a positive result in the test) and 5% false negatives (i.e., 1% of those who are not resistant to an antibiotic show a positive result in the test) (i.e. 5 percent of those actually resistant to an antibiotic test negative). Assume that 2% of those who were screened were antibiotic-resistant. Calculate the likelihood that a person who tests positive is actually immune (random variable D) ?"
   ]
  },
  {
   "cell_type": "markdown",
   "id": "54020cf8",
   "metadata": {
    "tags": []
   },
   "source": [
    "##### 8. In order to prepare for the test, a student knows that there will be one question in the exam that is either form A, B, or C. The chances of getting an A, B, or C on the exam are 30 percent, 20%, and 50 percent, respectively. During the planning, the student solved 9 of 10 type A problems, 2 of 10 type B problems, and 6 of 10 type C problems.\n",
    "1. What is the likelihood that the student can solve the exam problem?\n",
    "2. Given the student's solution, what is the likelihood that the problem was of form A?"
   ]
  },
  {
   "cell_type": "markdown",
   "id": "8ae2b6de-bcb0-47cb-a553-d7a62756a6ee",
   "metadata": {},
   "source": [
    "    1. The probability to solve the problem of the exam is the probability of getting a problem of\n",
    "    a certain type times the probability of solving such a problem, summed over all types. This is known\n",
    "    as the total probability.\n",
    "    P(solved) = P(solved|A)P(A) + P(solved|B)P(B) + P(solved|C)P(C)\n",
    "    = 9/10 · 30% + 2/10 · 20% + 6/10 · 50% \n",
    "    = 27/100 + 4/100 + 30/100 = 61/100 = 0.61\n",
    "\n",
    "*****************************************************************************************\n",
    "\n",
    "    2. For this to answer we need Bayes theorem.\n",
    "    P(A|solved) = P(solved|A)P(A)\n",
    "    P(solved) \n",
    "    =\n",
    "    9/10 · 30%\n",
    "    61/100\n",
    "    =\n",
    "    27/100\n",
    "    61/100\n",
    "    =\n",
    "    27\n",
    "    61\n",
    "    = 0.442\n",
    "\n",
    "    So we see that given you have solved the problem, the a posteriori probability that the problem was of\n",
    "    type A is greater than its a priori probability of 30%, because problems of type A are relatively easy\n",
    "    to solve.\n"
   ]
  },
  {
   "cell_type": "markdown",
   "id": "9db681d1",
   "metadata": {},
   "source": [
    "##### 9. A bank installs a CCTV system to track and photograph incoming customers. Despite the constant influx of customers, we divide the timeline into 5 minute bins. There may be a customer coming into the bank with a 5% chance in each 5-minute time period, or there may be no customer (again, for simplicity, we assume that either there is 1 customer or none, not the case of multiple customers). If there is a client, the CCTV will detect them with a 99 percent probability. If there is no customer, the camera can take a false photograph with a 10% chance of detecting movement from other objects.\n",
    "1. How many customers come into the bank on a daily basis (10 hours)?\n",
    "2. On a daily basis, how many fake photographs (photographs taken when there is no customer) and how many missed photographs (photographs taken when there is a customer) are there?\n",
    "3. Explain likelihood that there is a customer if there is a photograph?"
   ]
  },
  {
   "cell_type": "markdown",
   "id": "5b686929",
   "metadata": {},
   "source": [
    "##### 10. Create the conditional probability table associated with the node Won Toss in the Bayesian Belief network to represent the conditional independence assumptions of the Nave Bayes classifier for the match winning prediction problem in Section 6.4.4.?"
   ]
  },
  {
   "cell_type": "markdown",
   "id": "551d31d8-ac0a-4bd2-9ab2-40669c8856c9",
   "metadata": {},
   "source": [
    "Bayesian belief network is key computer technology for dealing with probabilistic events and to solve a problem which has uncertainty. We can define a Bayesian network as:\n",
    "\n",
    "\"A Bayesian network is a probabilistic graphical model which represents a set of variables and their conditional dependencies using a directed acyclic graph.\"\n",
    "\n",
    "It is also called a Bayes network, belief network, decision network, or Bayesian model.\n",
    "\n",
    "Bayesian networks are probabilistic, because these networks are built from a probability distribution, and also use probability theory for prediction and anomaly detection."
   ]
  }
 ],
 "metadata": {
  "kernelspec": {
   "display_name": "Python 3 (ipykernel)",
   "language": "python",
   "name": "python3"
  },
  "language_info": {
   "codemirror_mode": {
    "name": "ipython",
    "version": 3
   },
   "file_extension": ".py",
   "mimetype": "text/x-python",
   "name": "python",
   "nbconvert_exporter": "python",
   "pygments_lexer": "ipython3",
   "version": "3.9.12"
  },
  "widgets": {
   "application/vnd.jupyter.widget-state+json": {
    "state": {},
    "version_major": 2,
    "version_minor": 0
   }
  }
 },
 "nbformat": 4,
 "nbformat_minor": 5
}
