{
 "cells": [
  {
   "cell_type": "markdown",
   "id": "e84a8940-b59b-4886-9fb5-f68bffb66a14",
   "metadata": {},
   "source": [
    "# Assignment 3 'Python Advance'"
   ]
  },
  {
   "cell_type": "markdown",
   "id": "f56e9dcd-a661-460c-965c-6235955b6379",
   "metadata": {},
   "source": [
    "### 1. What is the concept of an abstract superclass?\n",
    "\n",
    "**Answer:** An abstract superclass is a way to provide re-usable code. You can extend the abstract class and inherit the code. This is sometimes more convenient than using static methods or object composition to share code. The abstract class can \"fix\" parts of the code (by making it final). This is called the \"template method\" pattern (and this is not possible with an interface, which cannot provide final methods).\n",
    "\n",
    "\n",
    "### 2. What happens when a class statement's top level contains a basic assignment statement?\n",
    "\n",
    "**Answer:**\n",
    "\n",
    "A simple statement is comprised within a single logical line. Several simple statements may occur on a single line separated by semicolons. The syntax for simple statements is:\n",
    "\n",
    "simple_stmt ::=  expression_stmt\n",
    "                 | assert_stmt\n",
    "                 | assignment_stmt\n",
    "                 | augmented_assignment_stmt\n",
    "                 | annotated_assignment_stmt\n",
    "                 | pass_stmt\n",
    "                 | del_stmt\n",
    "                 | return_stmt\n",
    "                 | yield_stmt\n",
    "                 | raise_stmt\n",
    "                 | break_stmt\n",
    "                 | continue_stmt\n",
    "                 | import_stmt\n",
    "                 | future_stmt\n",
    "                 | global_stmt\n",
    "                 | nonlocal_stmt\n",
    "\n",
    "\n",
    "### 3. Why does a class need to manually call a superclass's __init__ method?\n",
    "\n",
    "**Answer:** The main reason for always calling base class _init__ is that base class may typically create member variable and initialize them to defaults. So, if you don't call base class init, none of that code would be executed and you would end up with base class that has no member variables. \n",
    "\n",
    "\n",
    "### 4. How can you augment, instead of completely replacing, an inherited method?\n",
    "\n",
    "**Answer:** Each method that is inherited from a superclass can be augmented to perform some different action in the new class. If there is no augmentation then the inherited methods will perform as defined in the superclass. An inherited method is augmented simply by creating a new definition for the method in your class definition. \n",
    "\n",
    "\n",
    "### 5. How is the local scope of a class different from that of a function?\n",
    "\n",
    "**Answer:**\n",
    "Is function scope same as local scope?\n",
    "Local scope is the area between an { and it's closing }. Function scope is the area between the opening { of a function and its closing }, which may contain more \"local\" scopes. A label is visible in the entirety of the function within which it is defined, e.g. int c is not visible outside its enclosing block.\n"
   ]
  },
  {
   "cell_type": "code",
   "execution_count": null,
   "id": "2c3e6eed-a1c6-4b30-8f60-077ff1dc71a7",
   "metadata": {},
   "outputs": [],
   "source": []
  }
 ],
 "metadata": {
  "kernelspec": {
   "display_name": "Python 3 (ipykernel)",
   "language": "python",
   "name": "python3"
  },
  "language_info": {
   "codemirror_mode": {
    "name": "ipython",
    "version": 3
   },
   "file_extension": ".py",
   "mimetype": "text/x-python",
   "name": "python",
   "nbconvert_exporter": "python",
   "pygments_lexer": "ipython3",
   "version": "3.9.12"
  },
  "widgets": {
   "application/vnd.jupyter.widget-state+json": {
    "state": {},
    "version_major": 2,
    "version_minor": 0
   }
  }
 },
 "nbformat": 4,
 "nbformat_minor": 5
}
