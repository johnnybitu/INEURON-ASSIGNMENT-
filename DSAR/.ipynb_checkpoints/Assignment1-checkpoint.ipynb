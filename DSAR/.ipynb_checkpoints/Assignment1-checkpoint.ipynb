{
 "cells": [
  {
   "cell_type": "code",
   "execution_count": null,
   "id": "6616f43b-38f5-46c1-94ec-c4214f46c8cf",
   "metadata": {},
   "outputs": [],
   "source": [
    "1. What are the applications of AI in Transportation? Briefly explain any of the two?\n",
    "2. What is an example of how AI is changing transportation?\n",
    "3. How is AI helping transportation and logistics corporations?\n",
    "4. How AI-Powered robots help in detecting oil sleep?\n",
    "5. List out the five basic applications of AI in the OIL industry?"
   ]
  },
  {
   "cell_type": "markdown",
   "id": "9dbfdb39-ec24-4d13-a947-287ecfb12729",
   "metadata": {},
   "source": [
    "# Assignment 1"
   ]
  },
  {
   "cell_type": "markdown",
   "id": "628abcc5-4a42-4b47-9989-7be98c8d5713",
   "metadata": {
    "tags": []
   },
   "source": [
    "### 1. What are the applications of AI in Transportation? Briefly explain any of the two?\n",
    "\n",
    "## AI applications in transportation:-\n",
    "    1. Autonomous vehicles\n",
    "    2. Traffic Management\n",
    "    3. Passenger Transportation\n",
    "    4. Airport Face scanning\n",
    "    5. Smartphone Applications\n",
    "    6. Law Enforcement\n",
    "    7. Flight Delay Prediction\n",
    "    8. Drone Taxis\n",
    "    \n",
    "### Flight Delay Prediction:-\n",
    "\n",
    "        One major problem commonly faced by air transport is flight delay. The expense in the US due to flight delays is 39 billion dollars. Flights delay not only causes financial loss but also badly impacts passenger’s flying experience. AI has helped to resolve these issues to a great extent. Using computer vision as well as data lake technology, the industry offers amazing service to passengers by improving their journey experience and cutting down wait times. Flight delays can be caused by anything, hence updating flight details to passengers timely is crucial to saving them from waiting unnecessarily.\n",
    "        \n",
    "        \n",
    "### Drone Taxis:-\n",
    "\n",
    "    Drone Taxi is an innovative application of AI in transport. Pilotless helicopters offer a unique solution for combating carbon emissions, eliminating traffic congestion, and reducing the need for costly infrastructure construction plans. Drone taxis help people quickly reach their destined places thereby minimizing the commute time."
   ]
  },
  {
   "cell_type": "markdown",
   "id": "7e76d467-be28-471d-8b34-12abb214862b",
   "metadata": {
    "jp-MarkdownHeadingCollapsed": true,
    "tags": []
   },
   "source": [
    "### 2. What is an example of how AI is changing transportation?\n",
    "\n",
    "1. AI-enabled transportation reduces traffic accidents and increases safety. Use of smart unmanned vehicles can lead to a drop in night accidents involving truck drivers. Auto-pilot vehicles allow drivers to have a snooze without leading to severe accidents.\n",
    "2. Some AI-enabled trucks can effectively predict accidents and health issues of people around the truck such as detection of heart attack and automatically alerting the emergency services with the location.\n",
    "3. AI creates good opportunities for automakers to decrease the cost of production and introduce new revenue streams such as predictive maintenance, route optimization, and self-driving technology.\n",
    "4. AI technology enhances the ability to predict data and outcomes better than humans so transport operators will schedule transportation services in an improved manner.\n",
    "5. AI can play a huge role in developing productive ways to deal with pollution and helping to enable engineers with environment-friendly methods to run machinery for transportation."
   ]
  },
  {
   "cell_type": "markdown",
   "id": "e2d4c5c7-f201-4189-8d58-bcbb91aae97d",
   "metadata": {},
   "source": [
    "### 3. How is AI helping transportation and logistics corporations?\n",
    "\n",
    "    Some AI-enabled trucks can effectively predict accidents and health issues of people around the truck such as detection of heart attack and automatically alerting the emergency services with the location."
   ]
  },
  {
   "cell_type": "markdown",
   "id": "a55cc534-b9fb-4b9a-8aaf-4c6499666513",
   "metadata": {},
   "source": [
    "### 4.How AI-Powered robots help in detecting oil sleep?\n",
    "\n",
    "    Everyone knows ExxonMobil as one of the leading oil and gas giants. They also invest their money into pretty cool AI projects. In 2016, the industry titan teamed up with the Massachusetts Institute of Technology (MIT) to design AI robots for ocean exploration. Brian Williams, an MIT professor and a core designer of the software for NASA’s Mars Curiosity Rover, is one of the key members of this deep-sea initiative, further adding to the cool factor.\n",
    "\n",
    "    More specifically, ExxonMobil plans to use this deep-sea AI robot to boost its natural seep detection capabilities. According to the National Oceanic and Atmospheric Administration, naturally occurring oil seeps from the seafloor are the largest source of oil entering the world’s oceans, accounting for nearly half of the oil released into the ocean environment every year. ExxonMobil’s AI-powered robots will be able to detect these oil seeps in order to greatly reduce exploration risk and lessen harm to marine life.\n"
   ]
  },
  {
   "cell_type": "markdown",
   "id": "dd1bf50e-4077-4152-a07c-e96b664a3e1d",
   "metadata": {},
   "source": [
    "### 5.List out the five basic applications of AI in the OIL industry?\n",
    "\n",
    "1. Optimizing Subsurface Data Analysis – Total S.A. and Google Cloud\n",
    "2. Detecting Oil Seeps With AI-Powered Robots – ExxonMobil and MIT\n",
    "3. Precision Drilling With Machine Learning Algorithms – Shell\n",
    "4. Boosting Productivity With Predictive Maintenance – Aker BP and SparkCognition\n",
    "5. Oil Seeps With AI-Powered"
   ]
  },
  {
   "cell_type": "code",
   "execution_count": null,
   "id": "9294e1dc-5319-4b97-ae96-c10553c4d85f",
   "metadata": {},
   "outputs": [],
   "source": []
  }
 ],
 "metadata": {
  "kernelspec": {
   "display_name": "Python 3 (ipykernel)",
   "language": "python",
   "name": "python3"
  },
  "language_info": {
   "codemirror_mode": {
    "name": "ipython",
    "version": 3
   },
   "file_extension": ".py",
   "mimetype": "text/x-python",
   "name": "python",
   "nbconvert_exporter": "python",
   "pygments_lexer": "ipython3",
   "version": "3.9.12"
  },
  "widgets": {
   "application/vnd.jupyter.widget-state+json": {
    "state": {},
    "version_major": 2,
    "version_minor": 0
   }
  }
 },
 "nbformat": 4,
 "nbformat_minor": 5
}
