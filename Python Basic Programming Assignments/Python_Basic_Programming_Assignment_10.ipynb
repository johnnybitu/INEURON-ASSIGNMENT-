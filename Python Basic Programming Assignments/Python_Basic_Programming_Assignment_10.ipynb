{
 "cells": [
  {
   "cell_type": "markdown",
   "id": "baa31dbc",
   "metadata": {},
   "source": [
    "# Python Basic Programming Assignment 10"
   ]
  },
  {
   "cell_type": "markdown",
   "id": "3116972b",
   "metadata": {},
   "source": [
    "### 1. Write a Python program to find sum of elements in list?"
   ]
  },
  {
   "cell_type": "code",
   "execution_count": 13,
   "id": "ec9aa850",
   "metadata": {},
   "outputs": [
    {
     "name": "stdout",
     "output_type": "stream",
     "text": [
      "Sum all number in a list:  52\n"
     ]
    }
   ],
   "source": [
    "lst=[4,8,3,7,6,3,7,10,4]\n",
    "print(\"Sum all number in a list: \",sum(lst))"
   ]
  },
  {
   "cell_type": "markdown",
   "id": "c70a4a34",
   "metadata": {},
   "source": [
    "### 2. Write a Python program to Multiply all numbers in the list?"
   ]
  },
  {
   "cell_type": "code",
   "execution_count": 12,
   "id": "72c0e443",
   "metadata": {},
   "outputs": [
    {
     "name": "stdout",
     "output_type": "stream",
     "text": [
      "Multiply all number in a list:  3386880\n"
     ]
    }
   ],
   "source": [
    "mul=1\n",
    "for num in lst:\n",
    "    mul=mul*num\n",
    "print(\"Multiply all number in a list: \",mul)"
   ]
  },
  {
   "cell_type": "markdown",
   "id": "5c1c3510",
   "metadata": {},
   "source": [
    "### 3. Write a Python program to find smallest number in a list?"
   ]
  },
  {
   "cell_type": "code",
   "execution_count": 11,
   "id": "e7001a84",
   "metadata": {},
   "outputs": [
    {
     "name": "stdout",
     "output_type": "stream",
     "text": [
      "Original no. :  [4, 8, 3, 7, 6, 3, 7, 10, 4]\n",
      "Smallest number in a list:  3\n"
     ]
    }
   ],
   "source": [
    "print(\"Original no. : \",lst)\n",
    "print(\"Smallest number in a list: \",min(lst))"
   ]
  },
  {
   "cell_type": "markdown",
   "id": "a00c34df",
   "metadata": {},
   "source": [
    "### 4. Write a Python program to find largest number in a list?"
   ]
  },
  {
   "cell_type": "code",
   "execution_count": 14,
   "id": "948fb402",
   "metadata": {},
   "outputs": [
    {
     "name": "stdout",
     "output_type": "stream",
     "text": [
      "Original no. :  [4, 8, 3, 7, 6, 3, 7, 10, 4]\n",
      "Smallest number in a list:  10\n"
     ]
    }
   ],
   "source": [
    "print(\"Original no. : \",lst)\n",
    "print(\"Smallest number in a list: \",max(lst))"
   ]
  },
  {
   "cell_type": "markdown",
   "id": "fc6eee95",
   "metadata": {},
   "source": [
    "### 5. Write a Python program to find second largest number in a list?"
   ]
  },
  {
   "cell_type": "code",
   "execution_count": 16,
   "id": "7fe07e5c",
   "metadata": {},
   "outputs": [
    {
     "name": "stdout",
     "output_type": "stream",
     "text": [
      "Sorted List :  [10, 8, 7, 7, 6, 4, 4, 3, 3]\n",
      "Second largest number in a list:  8\n"
     ]
    }
   ],
   "source": [
    "sorted_list=sorted(lst,reverse=True)\n",
    "print(\"Sorted List : \",sorted_list)\n",
    "print(\"Second largest number in a list: \",sorted_list[1])"
   ]
  },
  {
   "cell_type": "markdown",
   "id": "255bf0a9",
   "metadata": {},
   "source": [
    "### 6. Write a Python program to find N largest elements from a list?"
   ]
  },
  {
   "cell_type": "code",
   "execution_count": 19,
   "id": "dbc2ee67",
   "metadata": {},
   "outputs": [
    {
     "name": "stdout",
     "output_type": "stream",
     "text": [
      "Sorted List :  [10, 8, 7, 7, 6, 4, 4, 3, 3]\n",
      "Enter the N  element : 2\n",
      "N largest elements from a list:  [10, 8]\n"
     ]
    }
   ],
   "source": [
    "print(\"Sorted List : \",sorted_list)\n",
    "n=int(input(\"Enter the N  element : \"))\n",
    "\n",
    "print(\"N largest elements from a list: \",sorted_list[:n])\n"
   ]
  },
  {
   "cell_type": "markdown",
   "id": "051788a0",
   "metadata": {},
   "source": [
    "### 7. Write a Python program to print even numbers in a list?"
   ]
  },
  {
   "cell_type": "code",
   "execution_count": 22,
   "id": "7e9031dd",
   "metadata": {},
   "outputs": [
    {
     "name": "stdout",
     "output_type": "stream",
     "text": [
      "Original no. :  [4, 8, 3, 7, 6, 3, 7, 10, 4]\n",
      "Even number in a list:  [4, 8, 6, 10, 4]\n"
     ]
    }
   ],
   "source": [
    "even=[num for num in lst if num%2==0]\n",
    "print(\"Original no. : \",lst)\n",
    "print(\"Even number in a list: \",even)"
   ]
  },
  {
   "cell_type": "markdown",
   "id": "0d28487b",
   "metadata": {},
   "source": [
    "### 8. Write a Python program to print odd numbers in a List?"
   ]
  },
  {
   "cell_type": "code",
   "execution_count": 23,
   "id": "78ebb5c6",
   "metadata": {},
   "outputs": [
    {
     "name": "stdout",
     "output_type": "stream",
     "text": [
      "Original no. :  [4, 8, 3, 7, 6, 3, 7, 10, 4]\n",
      "Even number in a list:  [3, 7, 3, 7]\n"
     ]
    }
   ],
   "source": [
    "odd=[num for num in lst if num%2!=0]\n",
    "print(\"Original no. : \",lst)\n",
    "print(\"Even number in a list: \",odd)"
   ]
  },
  {
   "cell_type": "markdown",
   "id": "6404e7f4",
   "metadata": {},
   "source": [
    "### 9. Write a Python program to Remove empty List from List?"
   ]
  },
  {
   "cell_type": "code",
   "execution_count": 25,
   "id": "0fd6d277",
   "metadata": {},
   "outputs": [
    {
     "name": "stdout",
     "output_type": "stream",
     "text": [
      "Original no. :  [5, 6, [], 3, [], [], 9]\n",
      "Remove empty List from List:  [5, 6, 3, 9]\n"
     ]
    }
   ],
   "source": [
    "Emtpy_list = [5, 6, [], 3, [], [], 9]\n",
    "remove_empty=[num for num in Emtpy_list if num!=[]]\n",
    "print(\"Original no. : \",Emtpy_list)\n",
    "print(\"Remove empty List from List: \",remove_empty)"
   ]
  },
  {
   "cell_type": "markdown",
   "id": "b6c5852b",
   "metadata": {},
   "source": [
    "### 10. Write a Python program to Cloning or Copying a list?"
   ]
  },
  {
   "cell_type": "code",
   "execution_count": 26,
   "id": "51eaa729",
   "metadata": {},
   "outputs": [
    {
     "name": "stdout",
     "output_type": "stream",
     "text": [
      "Original no. :  [4, 8, 3, 7, 6, 3, 7, 10, 4]\n",
      "Cloning or Copying list:  [4, 8, 3, 7, 6, 3, 7, 10, 4]\n"
     ]
    }
   ],
   "source": [
    "print(\"Original no. : \",lst)\n",
    "print(\"Cloning or Copying list: \",lst.copy())"
   ]
  },
  {
   "cell_type": "markdown",
   "id": "b9cd0ce6",
   "metadata": {},
   "source": [
    "### 11. Write a Python program to Count occurrences of an element in a list?"
   ]
  },
  {
   "cell_type": "code",
   "execution_count": 28,
   "id": "7e2a3425",
   "metadata": {},
   "outputs": [
    {
     "name": "stdout",
     "output_type": "stream",
     "text": [
      "Enter the number want to count :3\n",
      "Original no. :  [4, 8, 3, 7, 6, 3, 7, 10, 4]\n",
      "Count occurrences of 3 element in a list:  2\n"
     ]
    }
   ],
   "source": [
    "n = int(input(\"Enter the number want to count :\"))\n",
    "\n",
    "print(\"Original no. : \",lst)\n",
    "print(f\"Count occurrences of { n } element in a list: \",lst.count(n))"
   ]
  },
  {
   "cell_type": "code",
   "execution_count": null,
   "id": "054a0ed9",
   "metadata": {},
   "outputs": [],
   "source": []
  }
 ],
 "metadata": {
  "kernelspec": {
   "display_name": "Python 3 (ipykernel)",
   "language": "python",
   "name": "python3"
  },
  "language_info": {
   "codemirror_mode": {
    "name": "ipython",
    "version": 3
   },
   "file_extension": ".py",
   "mimetype": "text/x-python",
   "name": "python",
   "nbconvert_exporter": "python",
   "pygments_lexer": "ipython3",
   "version": "3.9.7"
  }
 },
 "nbformat": 4,
 "nbformat_minor": 5
}
