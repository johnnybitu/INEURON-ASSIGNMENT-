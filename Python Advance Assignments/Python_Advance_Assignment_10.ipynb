{
 "cells": [
  {
   "cell_type": "markdown",
   "metadata": {
    "tags": []
   },
   "source": [
    "# Assignment 10 'Python Advance'"
   ]
  },
  {
   "cell_type": "markdown",
   "metadata": {
    "id": "SDR4-bwZPlWO"
   },
   "source": [
    "**1. What is the difference between getattr and getattribute?**  \n",
    "ANS - __ getattr __ method is called when the calling attribute is present in our class and we are sure about it. If the calling attribute is not present in our class then it will through an AttributeError\n",
    "\n",
    "And in Another side, if our function has __ getattribute __ then the condition is written inside this method will be put an effect on every other attribute no matter the method is present or not."
   ]
  },
  {
   "cell_type": "markdown",
   "metadata": {
    "id": "3Bv--HHiQLaL"
   },
   "source": [
    "**2. What is the difference between properties and descriptors?**  \n",
    "ANS -  The properties are much simpler to use and understand. Simply says it can convert the method as an attribute. Like we have a method in our class and if we add @property as a decorator of that function then we can use that function or method as an attribute means we no longer need to use () like calling a function.\n",
    "\n",
    "Descriptors give us a special ability to create objects that have special behavior when they’re accessed as attributes of other objects."
   ]
  },
  {
   "cell_type": "markdown",
   "metadata": {
    "id": "98l4OxdLQQav"
   },
   "source": [
    "**3. What are the key differences in functionality between getattr and getattribute, as well as properties and descriptors?** \n",
    "ANS - Descriptors are a low-level mechanism that lets you hook into an object's attributes being accessed. Properties are a high-level application of this; that is, properties are implemented using descriptors.\n",
    "\n",
    "The property function gives us a handy way to implement a simple descriptor without defining a separate class. Rather than create a complete class definition, we can write getter and setter method functions, and then bind these functions to an attribute name.\n",
    "\n",
    "\n"
   ]
  }
 ],
 "metadata": {
  "colab": {
   "collapsed_sections": [],
   "name": "ADVANCED_ASSIGNMENT_NO.10.ipynb",
   "provenance": []
  },
  "kernelspec": {
   "display_name": "Python 3 (ipykernel)",
   "language": "python",
   "name": "python3"
  },
  "language_info": {
   "codemirror_mode": {
    "name": "ipython",
    "version": 3
   },
   "file_extension": ".py",
   "mimetype": "text/x-python",
   "name": "python",
   "nbconvert_exporter": "python",
   "pygments_lexer": "ipython3",
   "version": "3.9.12"
  },
  "widgets": {
   "application/vnd.jupyter.widget-state+json": {
    "state": {},
    "version_major": 2,
    "version_minor": 0
   }
  }
 },
 "nbformat": 4,
 "nbformat_minor": 4
}
