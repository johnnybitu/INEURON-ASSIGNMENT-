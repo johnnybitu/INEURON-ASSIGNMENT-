{
 "cells": [
  {
   "cell_type": "markdown",
   "metadata": {},
   "source": [
    "# Assignment 11 'Python Advance'"
   ]
  },
  {
   "cell_type": "markdown",
   "metadata": {
    "id": "ZpAjU_htRkaT"
   },
   "source": [
    "**Q1. What is the concept of a metaclass?**  \n",
    "ANS - Metaclass in Python is a class of a class that defines how a class behaves. A class is itself a instance of Metaclass, and any Instance of Class in Python is an Instance of type metaclass. E.g. Type of of **int**, **str**, **float**, **list**, **tuple** and many more is of metaclass type"
   ]
  },
  {
   "cell_type": "markdown",
   "metadata": {
    "id": "fg_T1EC6R5DQ"
   },
   "source": [
    "**Q2. What is the best way to declare a class's metaclass?**  \n",
    "ANS - A way to declare a class’ **metaclass** is by using metaclass keyword in class definition"
   ]
  },
  {
   "cell_type": "code",
   "execution_count": 8,
   "metadata": {
    "colab": {
     "base_uri": "https://localhost:8080/"
    },
    "id": "Ukc8jlF0SDwl",
    "outputId": "7208a1c6-ceab-45fa-b8bb-4f6d02aa6785"
   },
   "outputs": [
    {
     "name": "stdout",
     "output_type": "stream",
     "text": [
      "<class 'type'>\n",
      "<class '__main__.meta'>\n"
     ]
    }
   ],
   "source": [
    "class meta(type):\n",
    "    pass\n",
    "class class_meta(metaclass=meta):\n",
    "    pass\n",
    "print(type(meta))\n",
    "print(type(class_meta))"
   ]
  },
  {
   "cell_type": "markdown",
   "metadata": {
    "id": "fU79OkPKSG8C"
   },
   "source": [
    "**Q3. How do class decorators overlap with metaclasses for handling classes ?**  \n",
    "ANS - Anything you can do with a class decorator, you can of course do with a custom metaclasses (just apply the functionality of the \"decorator function\", i.e., the one that takes a class object and modifies it, in the course of the metaclass's __ new __ or __ init __ that make the class object!)"
   ]
  },
  {
   "cell_type": "markdown",
   "metadata": {
    "id": "aEAko9nRSgT8"
   },
   "source": [
    "**4. How do class decorators overlap with metaclasses for handling instances?**  \n",
    "ANS - Anything you can do with a class decorator, you can of course do with a custom metaclass (just apply the functionality of the \"decorator function\", i.e., the one that takes a class object and modifies it, in the course of the metaclass's __ new __ or __ init __ that make the class object!)"
   ]
  }
 ],
 "metadata": {
  "colab": {
   "collapsed_sections": [],
   "name": "ADVANCED_ASSIGNMENT_NO.11.ipynb",
   "provenance": []
  },
  "kernelspec": {
   "display_name": "Python 3 (ipykernel)",
   "language": "python",
   "name": "python3"
  },
  "language_info": {
   "codemirror_mode": {
    "name": "ipython",
    "version": 3
   },
   "file_extension": ".py",
   "mimetype": "text/x-python",
   "name": "python",
   "nbconvert_exporter": "python",
   "pygments_lexer": "ipython3",
   "version": "3.9.12"
  },
  "widgets": {
   "application/vnd.jupyter.widget-state+json": {
    "state": {},
    "version_major": 2,
    "version_minor": 0
   }
  }
 },
 "nbformat": 4,
 "nbformat_minor": 4
}
